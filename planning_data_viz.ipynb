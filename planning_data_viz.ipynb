{
 "cells": [
  {
   "cell_type": "markdown",
   "metadata": {},
   "source": [
    "# Planning data vitualisation"
   ]
  },
  {
   "cell_type": "code",
   "execution_count": null,
   "metadata": {},
   "outputs": [],
   "source": [
    "import pandas as pd, numpy as np, matplotlib.pyplot as plt"
   ]
  },
  {
   "cell_type": "markdown",
   "metadata": {},
   "source": [
    "## Read CSV"
   ]
  },
  {
   "cell_type": "code",
   "execution_count": null,
   "metadata": {},
   "outputs": [],
   "source": [
    "df = pd.read_csv('data/VBA-DataVic-Building-Permits-2018.csv')\n",
    "df.head(3)"
   ]
  },
  {
   "cell_type": "markdown",
   "metadata": {},
   "source": [
    "## Create dataframe that use Zone as colume, suburb as index"
   ]
  },
  {
   "cell_type": "code",
   "execution_count": null,
   "metadata": {},
   "outputs": [],
   "source": [
    "df_casey = df[df['Municipal Name']=='Casey'] # pandas.core.frame.DataFrame\n",
    "\n",
    "permit_count = df_casey.groupby(['Site_suburb', 'BASIS_Zone']).size().to_frame()\n",
    "\n",
    "df_count = permit_count.unstack(level=1)\n",
    "\n",
    "df_count.columns = df_count.columns.droplevel(0)\n",
    "df_head = df_count.head(10)\n",
    "\n",
    "ax = df_head.plot(figsize=[20, 6], kind='bar', alpha=0.7, title='Num of Permit, by suburb in Casey')\n"
   ]
  },
  {
   "cell_type": "markdown",
   "metadata": {},
   "source": [
    "## Without Domestic"
   ]
  },
  {
   "cell_type": "code",
   "execution_count": null,
   "metadata": {},
   "outputs": [],
   "source": [
    "df_casey = df[df['Municipal Name']=='Casey']\n",
    "\n",
    "\n",
    "df_zone = df_casey[(df_casey['BASIS_Zone']!='Domestic')]\n",
    "\n",
    "permit_count = df_zone.groupby(['Site_suburb', 'BASIS_Zone']).size().to_frame()\n",
    "\n",
    "df_count = permit_count.unstack(level=1)\n",
    "\n",
    "df_count.columns = df_count.columns.droplevel(0)\n",
    "df_head = df_count.head(10)\n",
    "\n",
    "ax = df_head.plot(figsize=[20, 6], kind='bar', alpha=0.7, title='Num of Permit, by suburb in Casey')\n"
   ]
  }
 ],
 "metadata": {
  "kernelspec": {
   "display_name": "Python 3",
   "language": "python",
   "name": "python3"
  },
  "language_info": {
   "codemirror_mode": {
    "name": "ipython",
    "version": 3
   },
   "file_extension": ".py",
   "mimetype": "text/x-python",
   "name": "python",
   "nbconvert_exporter": "python",
   "pygments_lexer": "ipython3",
   "version": "3.7.0"
  }
 },
 "nbformat": 4,
 "nbformat_minor": 2
}
